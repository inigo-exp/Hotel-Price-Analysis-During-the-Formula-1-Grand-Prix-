{
  "nbformat": 4,
  "nbformat_minor": 0,
  "metadata": {
    "colab": {
      "provenance": []
    },
    "kernelspec": {
      "name": "python3",
      "display_name": "Python 3"
    },
    "language_info": {
      "name": "python"
    }
  },
  "cells": [
    {
      "cell_type": "code",
      "execution_count": null,
      "metadata": {
        "id": "vGCQuE3BcsaZ"
      },
      "outputs": [],
      "source": [
        "from selenium.webdriver.common.by import By\n",
        "from selenium.common.exceptions import TimeoutException, NoSuchElementException, ElementClickInterceptedException, StaleElementReferenceException\n",
        "from selenium import webdriver\n",
        "import os\n",
        "import time\n",
        "import re\n",
        "import openpyxl\n",
        "import pandas as pd\n",
        "from selenium.webdriver.firefox.service import Service\n",
        "from selenium.webdriver.firefox.options import Options\n",
        "from selenium.webdriver.support.ui import WebDriverWait\n",
        "from selenium.webdriver.support import expected_conditions as EC\n",
        "\n",
        "# Go get geckodriver from : https://github.com/mozilla/geckodriver/releases"
      ]
    },
    {
      "cell_type": "code",
      "source": [
        "def ffx_preferences(dfolder, download=False):\n",
        "    '''\n",
        "    Sets the preferences of the firefox browser: download path.\n",
        "    '''\n",
        "    profile = webdriver.FirefoxProfile()\n",
        "    # set download folder:\n",
        "    profile.set_preference(\"browser.download.dir\", dfolder) # you can predefine where you wanna store things in case its needed\n",
        "    profile.set_preference(\"browser.download.folderList\", 2) # 0 means to download to the desktop, 1 means to download to the default \"Downloads\" directory, 2 means to use the directory\n",
        "    profile.set_preference(\"browser.download.manager.showWhenStarting\", False) #I dont wanna see a pop up for each download so i swith it off\n",
        "    profile.set_preference(\"browser.helperApps.neverAsk.saveToDisk\",\n",
        "                           \"application/msword,application/rtf, application/csv,text/csv,image/png ,image/jpeg, application/pdf, text/html,text/plain,application/octet-stream\")\n",
        "\n",
        "    # profile.install_addon('/Users/luisignaciomenendezgarcia/Dropbox/CLASSES/class_bse_text_mining/class_scraping_bse_2025/booking/booking/ublock_origin-1.55.0.xpi')\n",
        "    # profile.add_extension('/Users/luisignaciomenendezgarcia/Dropbox/CLASSES/class_bse_text_mining/class_scraping_bse/booking/booking/ublock_origin-1.55.0.xpi')\n",
        "\n",
        "\n",
        "    # this allows to download pdfs automatically\n",
        "    if download:\n",
        "        profile.set_preference(\"browser.helperApps.neverAsk.saveToDisk\", \"application/pdf,application/x-pdf\")\n",
        "        profile.set_preference(\"pdfjs.disabled\", True) #dont want the pdf viewer to open\n",
        "\n",
        "    options = Options()\n",
        "    options.profile = profile\n",
        "    return options\n",
        "\n",
        "\n",
        "def start_up(link, dfolder, geko_path,donwload=True):\n",
        "    # geko_path='/Users/luisignaciomenendezgarcia/Dropbox/CLASSES/class_bse_text_mining/class_scraping_bse/booking/geckodriver'\n",
        "    # download_path='./downloads'\n",
        "    os.makedirs(dfolder, exist_ok=True)\n",
        "\n",
        "    options = ffx_preferences(dfolder,donwload)\n",
        "    service = Service(geko_path)\n",
        "    browser = webdriver.Firefox(service=service, options=options)\n",
        "    # Enter the website address here\n",
        "    browser.get(link)\n",
        "    time.sleep(5)  # Adjust sleep time as needed\n",
        "    return browser\n",
        "\n",
        "\n",
        "def check_and_click(browser, xpath, type):\n",
        "    '''\n",
        "    Function that checks whether the object is clickable and, if so, clicks on\n",
        "    it. If not, waits one second and tries again.\n",
        "    '''\n",
        "    ck = False\n",
        "    ss = 0\n",
        "    while ck == False:\n",
        "        ck = check_obscures(browser, xpath, type)\n",
        "        time.sleep(1)\n",
        "        ss += 1\n",
        "        if ss == 15:\n",
        "            # warn_sound()\n",
        "            # return NoSuchElementException\n",
        "            ck = True\n",
        "            # browser.quit()\n",
        "\n",
        "def check_obscures(browser, xpath, type):\n",
        "    '''\n",
        "    Function that checks whether the object is being \"obscured\" by any element so\n",
        "    that it is not clickable. Important: if True, the object is going to be clicked!\n",
        "    '''\n",
        "    try:\n",
        "        if type == \"xpath\":\n",
        "            browser.find_element('xpath',xpath).click()\n",
        "        elif type == \"id\":\n",
        "            browser.find_element('id',xpath).click()\n",
        "        elif type == \"css\":\n",
        "            browser.find_element('css selector',xpath).click()\n",
        "        elif type == \"class\":\n",
        "            browser.find_element('class name',xpath).click()\n",
        "        elif type == \"link\":\n",
        "            browser.find_element('link text',xpath).click()\n",
        "    except (ElementClickInterceptedException, NoSuchElementException, StaleElementReferenceException) as e:\n",
        "        print(e)\n",
        "        return False\n",
        "    return True"
      ],
      "metadata": {
        "id": "3DVz_YjLc2U-"
      },
      "execution_count": null,
      "outputs": []
    },
    {
      "cell_type": "code",
      "source": [
        "# lets open booking:\n",
        "\n",
        "dfolder='./downloads'\n",
        "geko_path=''\n",
        "link='https://www.booking.com/index.en.html'\n",
        "\n",
        "\n",
        "browser=start_up(dfolder=dfolder,link=link,geko_path=geko_path)\n"
      ],
      "metadata": {
        "id": "T8_xP-loc5hz"
      },
      "execution_count": null,
      "outputs": []
    },
    {
      "cell_type": "code",
      "source": [
        "browser.find_element(by=By.XPATH,value='//*[@id=\":rh:\"]').click()\n",
        "# Input the place: Send your desired destination and combine with the element above\n",
        "place = input('Where do you want to go?')\n",
        "search1 = browser.find_element(by='xpath',value='//*[@id=\":rh:\"]')\n",
        "search1.send_keys(place)"
      ],
      "metadata": {
        "id": "lK2NISIqc7vQ"
      },
      "execution_count": null,
      "outputs": []
    },
    {
      "cell_type": "code",
      "source": [
        "# Now let's input the dates.\n",
        "css='button.ebbedaf8ac:nth-child(2) > span:nth-child(1)'\n",
        "browser.find_element('css selector',css).click()\n",
        "\n",
        "# Define a navigating function\n",
        "def navigate_to_month(browser, current_month, current_year, target_month, target_year):\n",
        "    months = ['January', 'February', 'March', 'April', 'May', 'June',\n",
        "              'July', 'August', 'September', 'October', 'November', 'December']\n",
        "\n",
        "    # Convert month names to numbers (1-12)\n",
        "    current_month_num = months.index(current_month) + 1\n",
        "    target_month_num = months.index(target_month) + 1\n",
        "\n",
        "    # Calculate how many months we need to move forward\n",
        "    months_diff = (target_year - current_year) * 12 + (target_month_num - current_month_num)\n",
        "\n",
        "    # Click the next month button the calculated number of times\n",
        "    for _ in range(months_diff):\n",
        "        next_month_button = browser.find_element('css selector', 'button[aria-label=\"Next month\"]')\n",
        "        browser.execute_script(\"arguments[0].click();\", next_month_button)\n",
        "        time.sleep(1)\n",
        "\n",
        "# Navigate to the time period we need\n",
        "navigate_to_month(browser, \"January\", 2025, \"May\", 2025)\n"
      ],
      "metadata": {
        "id": "Ot8ftVaJdDnu"
      },
      "execution_count": null,
      "outputs": []
    },
    {
      "cell_type": "code",
      "source": [
        "# Input the date we need\n",
        "from_day = input('Day from which you want to look for (In May)')\n",
        "to_day = input('Day until which you want to look for (In June)')\n",
        "\n",
        "\n",
        "for date in dates:\n",
        "    if date.get_attribute(\"data-date\") == f\"2025-05-{from_day}\":\n",
        "        browser.execute_script(\"arguments[0].click();\", date)\n",
        "    if date.get_attribute(\"data-date\") == f\"2025-05-{to_day}\":\n",
        "        browser.execute_script(\"arguments[0].click();\", date)\n",
        "        break\n",
        "\n",
        "# Looping across the calendar qould require additional code."
      ],
      "metadata": {
        "id": "rU-qXJ_odffw"
      },
      "execution_count": null,
      "outputs": []
    },
    {
      "cell_type": "code",
      "source": [
        "# Search the hotels\n",
        "my_xpath='/html/body/div[3]/div[2]/div/form/div/div[4]/button/span'\n",
        "\n",
        "check_obscures(browser,my_xpath , type='xpath')\n",
        "check_and_click(browser,my_xpath , type='xpath')"
      ],
      "metadata": {
        "id": "0B9goQ1kdl81"
      },
      "execution_count": null,
      "outputs": []
    },
    {
      "cell_type": "code",
      "source": [
        "# Define the function to scroll down and load more results\n",
        "def scroll_and_load_all(browser):\n",
        "    while True:\n",
        "        last_height = browser.execute_script(\"return document.body.scrollHeight\")\n",
        "        browser.execute_script(\"window.scrollTo(0, document.body.scrollHeight);\")\n",
        "        time.sleep(3)\n",
        "        new_height = browser.execute_script(\"return document.body.scrollHeight\")\n",
        "\n",
        "        # Double-check height in case content loads slowly\n",
        "        if new_height == last_height:\n",
        "            time.sleep(2)\n",
        "            new_height = browser.execute_script(\"return document.body.scrollHeight\")\n",
        "            if new_height == last_height:\n",
        "                pass\n",
        "        else:\n",
        "            last_height = new_height\n",
        "\n",
        "        try:\n",
        "            load_more_button = WebDriverWait(browser, 5).until(\n",
        "                EC.element_to_be_clickable((By.XPATH,\n",
        "                   \"//button[@class='a83ed08757 c21c56c305 bf0537ecb5 f671049264 af7297d90d c0e0affd09']\"\n",
        "                   \"//span[@class='e4adce92df' and contains(text(),'Load more results')]\"))\n",
        "            )\n",
        "            browser.execute_script(\"arguments[0].scrollIntoView(true);\", load_more_button)\n",
        "            time.sleep(1)\n",
        "            load_more_button.click()\n",
        "            time.sleep(3)\n",
        "            WebDriverWait(browser, 10).until(\n",
        "                EC.presence_of_all_elements_located((By.XPATH, \"//div[@class='f6431b446c a15b38c233']\"))\n",
        "            )\n",
        "        except Exception as e:\n",
        "            print(f\"No more results to load: {e}\")\n",
        "            break\n",
        "\n",
        "# After your search results are displayed:\n",
        "scroll_and_load_all(browser)"
      ],
      "metadata": {
        "id": "UlbhLsAIdr_U"
      },
      "execution_count": null,
      "outputs": []
    },
    {
      "cell_type": "code",
      "source": [
        "# First locate all hotel containers\n",
        "hotel_containers = browser.find_elements('xpath', '//div[@data-testid=\"property-card-container\"]')\n",
        "\n",
        "# Lists to store data\n",
        "hotels_data = []\n",
        "\n",
        "for container in hotel_containers:\n",
        "    try:\n",
        "        # Initialize a dictionary for each hotel\n",
        "        hotel_info = {}\n",
        "\n",
        "        # Extract hotel name\n",
        "        try:\n",
        "            hotel_name = container.find_element('xpath', './/div[contains(@class, \"f6431b446c\")]').text\n",
        "            hotel_info['name'] = hotel_name\n",
        "        except:\n",
        "            hotel_info['name'] = None\n",
        "\n",
        "        # Extract hotel ID from URL and store the link\n",
        "        try:\n",
        "            link = container.find_element('xpath', './/a[contains(@class, \"a78ca197d0\")]').get_attribute('href')\n",
        "            hotel_info['link'] = link  # Store the full link\n",
        "            id_match = re.findall(r'matching_block_id=(\\d+)_', link)\n",
        "            hotel_info['id'] = id_match[0] if id_match else None\n",
        "        except:\n",
        "            hotel_info['id'] = None\n",
        "            hotel_info['link'] = None\n",
        "\n",
        "        # Extract rating\n",
        "        try:\n",
        "            rating_element = container.find_element('xpath', './/div[@class=\"a3b8729ab1 d86cee9b25\"]')\n",
        "            rating_match = re.findall(r'\\d+\\.\\d+', rating_element.text)\n",
        "            hotel_info['rating'] = float(rating_match[0]) if rating_match else None\n",
        "        except:\n",
        "            hotel_info['rating'] = None\n",
        "\n",
        "        # Extract price\n",
        "        try:\n",
        "            price_element = container.find_element('xpath', './/span[@data-testid=\"price-and-discounted-price\"]')\n",
        "            price_text = price_element.text\n",
        "            # Extract numbers from the price text\n",
        "            price_match = re.findall(r'\\d+,?\\d*', price_text)\n",
        "            if price_match:\n",
        "                # Remove commas and convert to float\n",
        "                price_value = float(price_match[0].replace(',', ''))\n",
        "                hotel_info['price'] = price_value\n",
        "            else:\n",
        "                hotel_info['price'] = None\n",
        "        except:\n",
        "            hotel_info['price'] = None\n",
        "\n",
        "        hotels_data.append(hotel_info)\n",
        "\n",
        "    except Exception as e:\n",
        "        print(f\"Error processing a hotel: {str(e)}\")\n",
        "        continue\n",
        "\n",
        "# Create DataFrame\n",
        "df = pd.DataFrame(hotels_data)"
      ],
      "metadata": {
        "id": "M58T2C41d1bx"
      },
      "execution_count": null,
      "outputs": []
    },
    {
      "cell_type": "code",
      "source": [
        "# Get the descriptions for all hotels\n",
        "def get_hotel_description(browser, url):\n",
        "    \"\"\"\n",
        "    Visit hotel page and extract description\n",
        "\n",
        "    Args:\n",
        "        browser: Selenium webdriver instance\n",
        "        url: Hotel page URL\n",
        "    Returns:\n",
        "        str: Hotel description or None if not found\n",
        "    \"\"\"\n",
        "    try:\n",
        "        # Navigate to hotel page\n",
        "        browser.get(url)\n",
        "        time.sleep(3)  # Wait for page to load\n",
        "\n",
        "        # Wait for and find description element\n",
        "        description_element = WebDriverWait(browser, 10).until(\n",
        "            EC.presence_of_element_located((By.XPATH, '//p[@data-testid=\"property-description\"]'))\n",
        "        )\n",
        "\n",
        "        return description_element.text\n",
        "\n",
        "    except Exception as e:\n",
        "        print(f\"Error getting description: {str(e)}\")\n",
        "        return None\n",
        "\n",
        "# Create a new column for descriptions\n",
        "df['description'] = None\n",
        "\n",
        "# Iterate through each hotel in the dataframe\n",
        "for index, row in df.iterrows():\n",
        "    if row['link'] is not None:\n",
        "        print(f\"Processing hotel {index + 1}/{len(df)}: {row['name']}\")\n",
        "\n",
        "        # Get description\n",
        "        description = get_hotel_description(browser, row['link'])\n",
        "\n",
        "        # Update dataframe\n",
        "        df.at[index, 'description'] = description\n",
        "\n",
        "        # Optional: Add a small delay between requests to avoid overwhelming the server\n",
        "        time.sleep(2)\n",
        "    else:\n",
        "        print(f\"Skipping hotel {index + 1} - No link available\")\n"
      ],
      "metadata": {
        "id": "gmqsYAiUd5eB"
      },
      "execution_count": null,
      "outputs": []
    },
    {
      "cell_type": "code",
      "source": [
        "# Filter rows that have no description or empty string\n",
        "missing_desc_rows = df[\n",
        "    (df['description'].isnull()) | (df['description'].str.strip() == '')\n",
        "]\n",
        "\n",
        "# Re-run the extraction for these missing rows\n",
        "for index, row in missing_desc_rows.iterrows():\n",
        "    if row['link']:\n",
        "        print(f\"Re-processing hotel {index + 1}/{len(df)}: {row['name']}\")\n",
        "        description = get_hotel_description(browser, row['link'])\n",
        "        df.at[index, 'description'] = description\n",
        "        time.sleep(2)\n",
        "    else:\n",
        "        print(f\"Skipping hotel {index + 1} - No link available\")"
      ],
      "metadata": {
        "id": "hO9YIgTdeAq7"
      },
      "execution_count": null,
      "outputs": []
    },
    {
      "cell_type": "code",
      "source": [
        "# Create check in day and check out day\n",
        "df['check_in'] = pd.to_datetime('2025-05-16')\n",
        "df['check_out'] = pd.to_datetime('2025-05-18')"
      ],
      "metadata": {
        "id": "m8VIQwXbeDWY"
      },
      "execution_count": null,
      "outputs": []
    },
    {
      "cell_type": "code",
      "source": [
        "# Save the data\n",
        "df.to_excel('barcelona_16_18.xlsx', index=False)"
      ],
      "metadata": {
        "id": "EGsha1mLeFbn"
      },
      "execution_count": null,
      "outputs": []
    }
  ]
}